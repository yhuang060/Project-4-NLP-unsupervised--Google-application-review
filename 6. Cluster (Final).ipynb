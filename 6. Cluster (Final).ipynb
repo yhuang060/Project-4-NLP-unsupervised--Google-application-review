{
 "cells": [
  {
   "cell_type": "code",
   "execution_count": 11,
   "metadata": {},
   "outputs": [],
   "source": [
    "import pandas as pd\n",
    "import numpy as np\n",
    "import pickle\n",
    "\n",
    "import pandas as pd\n",
    "import seaborn as sns\n",
    "\n",
    "# import sklearn\n",
    "from sklearn.preprocessing import scale\n",
    "from sklearn.cluster import KMeans\n",
    "from sklearn.datasets import make_blobs\n",
    "\n",
    "from sklearn.utils import shuffle\n",
    "import matplotlib.pyplot as plt\n",
    "from sklearn.manifold import TSNE\n",
    "from sklearn.decomposition import PCA\n",
    "\n",
    "from sklearn.feature_extraction import text\n",
    "from sklearn.feature_extraction.text import CountVectorizer\n",
    "from sklearn.feature_extraction.text import TfidfVectorizer"
   ]
  },
  {
   "cell_type": "code",
   "execution_count": 12,
   "metadata": {},
   "outputs": [
    {
     "data": {
      "text/plain": [
       "(95003, 14)"
      ]
     },
     "execution_count": 12,
     "metadata": {},
     "output_type": "execute_result"
    }
   ],
   "source": [
    "data = pd.read_pickle('all_data.pkl')\n",
    "data.shape"
   ]
  },
  {
   "cell_type": "code",
   "execution_count": 13,
   "metadata": {},
   "outputs": [],
   "source": [
    "add_stop_words=['app','use','good','just','google','like','work',\n",
    "                'time','need','dont','make','phone','update'\n",
    "                ,'im','feature','really']\n",
    "stop_words1=text.ENGLISH_STOP_WORDS.union(add_stop_words)"
   ]
  },
  {
   "cell_type": "code",
   "execution_count": 14,
   "metadata": {},
   "outputs": [],
   "source": [
    "#change review to unicode\n",
    "data['content1']=data['content'].values.astype(\"U\")"
   ]
  },
  {
   "cell_type": "code",
   "execution_count": 15,
   "metadata": {},
   "outputs": [],
   "source": [
    "cv1=CountVectorizer(stop_words=stop_words1, token_pattern=\"\\\\b[a-z][a-z]+\\\\b\",\n",
    "                    min_df=5,max_df=0.80, max_features=10000,\n",
    "                    ngram_range=(1,2))#, preprocessor=' '.join)\n",
    "df_cv1 = cv1.fit_transform(data.content1)\n",
    "df_review1=pd.DataFrame(df_cv1.toarray(), index= [data.title], columns=cv1.get_feature_names())\n",
    "#df_review1.shape"
   ]
  },
  {
   "cell_type": "code",
   "execution_count": 16,
   "metadata": {},
   "outputs": [],
   "source": [
    "cv2 = TfidfVectorizer(stop_words=stop_words1,token_pattern=\"\\\\b[a-z][a-z]+\\\\b\", \n",
    "                      min_df=3,max_df=0.80, max_features=20000, ngram_range=(1,3))#,preprocessor=' '.join)\n",
    "df_cv2 = cv2.fit_transform(data.content1)\n",
    "df_review2=pd.DataFrame(df_cv2.toarray(), index= [data.title], columns=cv2.get_feature_names())\n",
    "#df_review2.shape"
   ]
  },
  {
   "cell_type": "markdown",
   "metadata": {},
   "source": [
    "# K-means"
   ]
  },
  {
   "cell_type": "code",
   "execution_count": 17,
   "metadata": {},
   "outputs": [],
   "source": [
    "def display_cluster(X,km=[],num_clusters=0):\n",
    "    color = 'brgcmyk'\n",
    "    alpha = 0.5\n",
    "    s = 20\n",
    "    if num_clusters == 0:\n",
    "        plt.scatter(X[:,0],X[:,1],c = color[0],alpha = alpha,s = s)\n",
    "    else:\n",
    "        for i in range(num_clusters):\n",
    "            plt.scatter(X[km.labels_==i,0],X[km.labels_==i,1],c = color[i],alpha = alpha,s=s)\n",
    "            plt.scatter(km.cluster_centers_[i][0],km.cluster_centers_[i][1],c = color[i], marker = 'x', s = 100)"
   ]
  },
  {
   "cell_type": "code",
   "execution_count": 18,
   "metadata": {},
   "outputs": [
    {
     "data": {
      "text/plain": [
       "KMeans(n_clusters=5, n_init=1, random_state=10)"
      ]
     },
     "execution_count": 18,
     "metadata": {},
     "output_type": "execute_result"
    }
   ],
   "source": [
    "num_clusters = 5\n",
    "km = KMeans(n_clusters=num_clusters,max_iter=300,random_state=10,n_init=1) \n",
    "# n_init, number of times the K-mean algorithm will run\n",
    "km.fit(df_cv2)\n",
    "#display_cluster(df_cv2,km,num_clusters)"
   ]
  },
  {
   "cell_type": "code",
   "execution_count": 19,
   "metadata": {},
   "outputs": [],
   "source": [
    "data['k_label']=km.labels_"
   ]
  },
  {
   "cell_type": "code",
   "execution_count": 137,
   "metadata": {},
   "outputs": [
    {
     "name": "stdout",
     "output_type": "stream",
     "text": [
      "Cluster certroids:\n",
      "\n",
      "cluster 0:\n",
      " simple\n",
      " easy\n",
      " simple easy\n",
      " add\n",
      " great\n",
      " calculator\n",
      " way\n",
      " easy simple\n",
      " task\n",
      " really\n",
      "---------------------------\n",
      "cluster 1:\n",
      " listen\n",
      " music\n",
      " free\n",
      " message close\n",
      " version open\n",
      " music ask\n",
      " close music\n",
      " service free\n",
      " try navigate\n",
      " youre listen\n",
      "---------------------------\n",
      "cluster 2:\n",
      " great\n",
      " reinstall\n",
      " wish\n",
      " watch\n",
      " great great\n",
      " nice great\n",
      " wouldnt\n",
      " response\n",
      " appreciate\n",
      " finally\n",
      "---------------------------\n",
      "cluster 3:\n",
      " nice\n",
      " ok\n",
      " love\n",
      " great\n",
      " doesnt\n",
      " best\n",
      " add\n",
      " fix\n",
      " really\n",
      " try\n",
      "---------------------------\n",
      "cluster 4:\n",
      " gud\n",
      " upgrade\n",
      " nice\n",
      " ap\n",
      " save image\n",
      " bad\n",
      " instal\n",
      " caller\n",
      " apps\n",
      " really\n",
      "---------------------------\n"
     ]
    }
   ],
   "source": [
    "print(\"Cluster certroids:\\n\")\n",
    "order_centroids=km.cluster_centers_.argsort()[:,::-1]\n",
    "terms=cv2.get_feature_names()\n",
    "\n",
    "for i in range(num_clusters):\n",
    "    print('cluster %d:' %i)\n",
    "    for j in order_centroids[i,:10]:\n",
    "        print(' %s'% terms[j])\n",
    "    print('---------------------------')"
   ]
  },
  {
   "cell_type": "code",
   "execution_count": 145,
   "metadata": {},
   "outputs": [
    {
     "data": {
      "image/png": "[encoded data removed]",
      "text/plain": [
       "<Figure size 432x288 with 1 Axes>"
      ]
     },
     "metadata": {
      "needs_background": "light"
     },
     "output_type": "display_data"
    }
   ],
   "source": [
    "centroids = km.cluster_centers_\n",
    "\n",
    "tsne_init = 'pca'  # could also be 'random'\n",
    "tsne_perplexity = 20.0\n",
    "tsne_early_exaggeration = 4.0\n",
    "tsne_learning_rate = 1000\n",
    "model = TSNE(n_components=2, random_state=50, init=tsne_init, perplexity=tsne_perplexity,\n",
    "         early_exaggeration=tsne_early_exaggeration, learning_rate=tsne_learning_rate)\n",
    "\n",
    "transformed_centroids = model.fit_transform(centroids)\n",
    "#print(transformed_centroids)\n",
    "#plt.scatter(transformed_centroids[:, 0], transformed_centroids[:, 1], marker='x')\n",
    "\n",
    "\n",
    "for i in range(num_clusters):    \n",
    "    points = model.fit_transform(df_cv2.toarray()[y_kmeans==i,:])\n",
    "    plt.scatter(points[:,0], points[:,1], s=10, \n",
    "                c=colors[i], label= 'cluster {}'.format(i))\n",
    "#plt.scatter(km.cluster_centers_[:,0],km.cluster_centers_[:,1],s=10,c='yellow',label='Centroids')\n",
    "\n",
    "plt.show()"
   ]
  },
  {
   "cell_type": "code",
   "execution_count": 20,
   "metadata": {},
   "outputs": [
    {
     "data": {
      "text/plain": [
       "(array([ 1105.,     0., 89490.,     0.,     0.,  1879.,     0.,   401.,\n",
       "            0.,  2128.]),\n",
       " array([0. , 0.4, 0.8, 1.2, 1.6, 2. , 2.4, 2.8, 3.2, 3.6, 4. ]),\n",
       " <BarContainer object of 10 artists>)"
      ]
     },
     "execution_count": 20,
     "metadata": {},
     "output_type": "execute_result"
    },
    {
     "data": {
      "image/png": "[encoded data removed]",
      "text/plain": [
       "<Figure size 432x288 with 1 Axes>"
      ]
     },
     "metadata": {
      "needs_background": "light"
     },
     "output_type": "display_data"
    }
   ],
   "source": [
    "kmean_indices = km.fit_predict(df_cv2)\n",
    "plt.hist(kmean_indices)"
   ]
  },
  {
   "cell_type": "markdown",
   "metadata": {},
   "source": [
    "### Elbow method to find out the optimal number of cluster"
   ]
  },
  {
   "cell_type": "code",
   "execution_count": 25,
   "metadata": {},
   "outputs": [
    {
     "data": {
      "image/png": "[encoded data removed]",
      "text/plain": [
       "<Figure size 432x288 with 1 Axes>"
      ]
     },
     "metadata": {
      "needs_background": "light"
     },
     "output_type": "display_data"
    }
   ],
   "source": [
    "wcss=[]\n",
    "for i in range(1,20):\n",
    "    km = KMeans(n_clusters=i,max_iter=300,random_state=10,n_init=1)\n",
    "    km.fit(df_cv2)\n",
    "    wcss.append(km.inertia_)\n",
    "\n",
    "plt.plot(range(1,20),wcss)\n",
    "plt.title('The Elbow Method Graph')\n",
    "plt.xlabel('number of clusters')\n",
    "plt.ylabel('WCSS')\n",
    "plt.show()"
   ]
  },
  {
   "cell_type": "code",
   "execution_count": null,
   "metadata": {},
   "outputs": [],
   "source": []
  }
 ],
 "metadata": {
  "kernelspec": {
   "display_name": "Python 3",
   "language": "python",
   "name": "python3"
  },
  "language_info": {
   "codemirror_mode": {
    "name": "ipython",
    "version": 3
   },
   "file_extension": ".py",
   "mimetype": "text/x-python",
   "name": "python",
   "nbconvert_exporter": "python",
   "pygments_lexer": "ipython3",
   "version": "3.8.2"
  }
 },
 "nbformat": 4,
 "nbformat_minor": 4
}
