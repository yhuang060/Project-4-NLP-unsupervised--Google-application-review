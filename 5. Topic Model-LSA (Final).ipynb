{
 "cells": [
  {
   "cell_type": "code",
   "execution_count": 8,
   "metadata": {},
   "outputs": [],
   "source": [
    "import pandas as pd\n",
    "import numpy as np\n",
    "import pickle\n",
    "\n",
    "from sklearn.feature_extraction import text\n",
    "from sklearn.feature_extraction.text import CountVectorizer\n",
    "from sklearn.decomposition import TruncatedSVD"
   ]
  },
  {
   "cell_type": "code",
   "execution_count": 3,
   "metadata": {},
   "outputs": [
    {
     "data": {
      "text/plain": [
       "(95003, 14)"
      ]
     },
     "execution_count": 3,
     "metadata": {},
     "output_type": "execute_result"
    }
   ],
   "source": [
    "data = pd.read_pickle('all_data.pkl')\n",
    "data.shape"
   ]
  },
  {
   "cell_type": "code",
   "execution_count": 4,
   "metadata": {},
   "outputs": [],
   "source": [
    "add_stop_words=['app','use','good','just','google','like','work',\n",
    "                'time','need','dont','make','phone','update',\n",
    "                'great','im','feature','option']\n",
    "stop_words1=text.ENGLISH_STOP_WORDS.union(add_stop_words)"
   ]
  },
  {
   "cell_type": "code",
   "execution_count": 5,
   "metadata": {},
   "outputs": [],
   "source": [
    "def display_topics(model, feature_names, no_top_words, topic_names=None):\n",
    "    for ix, topic in enumerate(model.components_):\n",
    "        if not topic_names or not topic_names[ix]:\n",
    "            print(\"\\nTopic \", ix)\n",
    "        else:\n",
    "            print(\"\\nTopic: '\",topic_names[ix],\"'\")\n",
    "        print(\", \".join([feature_names[i]\n",
    "                        for i in topic.argsort()[:-no_top_words - 1:-1]]))"
   ]
  },
  {
   "cell_type": "markdown",
   "metadata": {},
   "source": [
    "# Topic Modeling - Attempt #1 (All Text)"
   ]
  },
  {
   "cell_type": "code",
   "execution_count": 6,
   "metadata": {},
   "outputs": [
    {
     "data": {
      "text/plain": [
       "(95003, 10000)"
      ]
     },
     "execution_count": 6,
     "metadata": {},
     "output_type": "execute_result"
    }
   ],
   "source": [
    "cv1=CountVectorizer(stop_words=stop_words1, token_pattern=\"\\\\b[a-z][a-z]+\\\\b\",\n",
    "                    min_df=3,max_df=0.85, max_features=10000, ngram_range=(1,2))#, preprocessor=' '.join)\n",
    "df_cv1 = cv1.fit_transform(data.content)\n",
    "df_review1=pd.DataFrame(df_cv1.toarray(), index= [data.title], columns=cv1.get_feature_names())\n",
    "df_review1.shape"
   ]
  },
  {
   "cell_type": "code",
   "execution_count": 7,
   "metadata": {},
   "outputs": [
    {
     "data": {
      "text/plain": [
       "(95003, 32153)"
      ]
     },
     "execution_count": 7,
     "metadata": {},
     "output_type": "execute_result"
    }
   ],
   "source": [
    "from sklearn.feature_extraction.text import TfidfVectorizer\n",
    "cv2 = TfidfVectorizer(stop_words=stop_words1,token_pattern=\"\\\\b[a-z][a-z]+\\\\b\", \n",
    "                      min_df=5,max_df=0.90, #max_features=20000, \n",
    "                      ngram_range=(1,2))#,preprocessor=' '.join)\n",
    "df_cv2 = cv2.fit_transform(data.content)\n",
    "df_review2=pd.DataFrame(df_cv2.toarray(), index= [data.title], columns=cv2.get_feature_names())\n",
    "df_review2.shape"
   ]
  },
  {
   "cell_type": "markdown",
   "metadata": {},
   "source": [
    "### CountVectorizer"
   ]
  },
  {
   "cell_type": "code",
   "execution_count": 11,
   "metadata": {},
   "outputs": [],
   "source": [
    "num_topic=10\n",
    "lsa = TruncatedSVD(num_topic)\n",
    "doc_topic = lsa.fit_transform(df_cv1)\n",
    "U=lsa.explained_variance_ratio_"
   ]
  },
  {
   "cell_type": "code",
   "execution_count": 12,
   "metadata": {},
   "outputs": [
    {
     "name": "stdout",
     "output_type": "stream",
     "text": [
      "\n",
      "Topic  0\n",
      "music, play, fix, try, doesnt, want, problem, new, add, say\n",
      "\n",
      "Topic  1\n",
      "music, play, youtube, play music, youtube music, song, listen, playlist, download, listen music\n",
      "\n",
      "Topic  2\n",
      "add, photo, want, really, love, better, way, thing, nice, change\n",
      "\n",
      "Topic  3\n",
      "device, android, apps, screen, tv, home, account, set, doesnt, turn\n",
      "\n",
      "Topic  4\n",
      "photo, device, apps, try, play, file, android, download, account, delete\n",
      "\n",
      "Topic  5\n",
      "video, screen, fix, issue, device, photo, android, play, watch, tv\n",
      "\n",
      "Topic  6\n",
      "add, play, doesnt, new, search, contact, fix, open, device, game\n",
      "\n",
      "Topic  7\n",
      "video, add, download, play, account, device, watch, try, game, kid\n",
      "\n",
      "Topic  8\n",
      "device, music, new, fix, youtube, problem, account, android, youtube music, add\n",
      "\n",
      "Topic  9\n",
      "fix, really, play, change, love, problem, apps, game, issue, device\n"
     ]
    }
   ],
   "source": [
    "index=[str('component {}'.format(i)) for i in range(1,num_topic+1)]\n",
    "topic_word = pd.DataFrame(lsa.components_.round(3),\n",
    "             index = index,\n",
    "             columns = cv1.get_feature_names())\n",
    "#topic_word\n",
    "display_topics(lsa, cv1.get_feature_names(), 10)"
   ]
  },
  {
   "cell_type": "markdown",
   "metadata": {},
   "source": [
    "### TfidfVectorizer"
   ]
  },
  {
   "cell_type": "code",
   "execution_count": 16,
   "metadata": {},
   "outputs": [],
   "source": [
    "num_topic=10\n",
    "lsa = TruncatedSVD(num_topic)\n",
    "doc_topic = lsa.fit_transform(df_cv2)\n",
    "U=lsa.explained_variance_ratio_"
   ]
  },
  {
   "cell_type": "code",
   "execution_count": 17,
   "metadata": {},
   "outputs": [
    {
     "name": "stdout",
     "output_type": "stream",
     "text": [
      "\n",
      "Topic  0\n",
      "nice, nice application, nice apps, application, apps, easy, add, really, love, problem\n",
      "\n",
      "Topic  1\n",
      "ok, ok ok, doesnt, say, problem, bad, love, fix, better, apps\n",
      "\n",
      "Topic  2\n",
      "love, best, bad, fix, doesnt, really, play, music, apps, problem\n",
      "\n",
      "Topic  3\n",
      "best, best best, best apps, best camera, best application, best edit, best thing, best music, best way, best thank\n",
      "\n",
      "Topic  4\n",
      "bad, doesnt, problem, fix, try, want, play, better, apps, open\n",
      "\n",
      "Topic  5\n",
      "love, bad, best, ok, nice, love love, bad experience, love thank, really love, love easy\n",
      "\n",
      "Topic  6\n",
      "excellent, super, apps, thank, application, easy, really, excellent service, add, excellent application\n",
      "\n",
      "Topic  7\n",
      "super, cool, easy, useful, super easy, amaze, slow, thank, super cool, awesome\n",
      "\n",
      "Topic  8\n",
      "awesome, useful, thank, helpful, really, easy, add, amaze, apps, better\n",
      "\n",
      "Topic  9\n",
      "useful, helpful, apps, thank, application, really, add, nice useful, cool, really useful\n"
     ]
    }
   ],
   "source": [
    "index=[str('component {}'.format(i)) for i in range(1,num_topic+1)]\n",
    "topic_word = pd.DataFrame(lsa.components_.round(3),\n",
    "             index = index,\n",
    "             columns = cv2.get_feature_names())\n",
    "#topic_word\n",
    "display_topics(lsa, cv2.get_feature_names(), 10)"
   ]
  },
  {
   "cell_type": "markdown",
   "metadata": {},
   "source": [
    "### Topic Modeling- Attempt # 2 (Nouns Only)"
   ]
  },
  {
   "cell_type": "code",
   "execution_count": 18,
   "metadata": {},
   "outputs": [],
   "source": [
    "data_nouns = pd.read_pickle('data_nouns.pkl')\n",
    "#data_nouns"
   ]
  },
  {
   "cell_type": "code",
   "execution_count": 19,
   "metadata": {},
   "outputs": [],
   "source": [
    "stop_words1=text.ENGLISH_STOP_WORDS.union(add_stop_words)\n",
    "cv1_2=CountVectorizer(stop_words=stop_words1, token_pattern=\"\\\\b[a-z][a-z]+\\\\b\",\n",
    "                    min_df=3,max_df=0.85, #max_features=10000, \n",
    "                      ngram_range=(1,2))\n",
    "df_cv1_2 = cv1_2.fit_transform(data_nouns.content)\n",
    "df_review1_2=pd.DataFrame(df_cv1_2.toarray(), index= [data.title], columns=cv1_2.get_feature_names())"
   ]
  },
  {
   "cell_type": "code",
   "execution_count": 20,
   "metadata": {},
   "outputs": [],
   "source": [
    "cv2_2=CountVectorizer(stop_words=stop_words1, token_pattern=\"\\\\b[a-z][a-z]+\\\\b\",\n",
    "                    min_df=3,max_df=0.85, #max_features=10000, \n",
    "                      ngram_range=(1,2))\n",
    "df_cv2_2 = cv2_2.fit_transform(data_nouns.content)\n",
    "df_review2_2=pd.DataFrame(df_cv2_2.toarray(), index= [data.title], columns=cv2_2.get_feature_names())"
   ]
  },
  {
   "cell_type": "code",
   "execution_count": 22,
   "metadata": {},
   "outputs": [
    {
     "name": "stdout",
     "output_type": "stream",
     "text": [
      "\n",
      "Topic  0\n",
      "music, play, device, problem, play music, youtube, issue, way, video, thing\n",
      "\n",
      "Topic  1\n",
      "music, play music, play, music music, song, youtube music, playlist, youtube, music play, music youtube\n",
      "\n",
      "Topic  2\n",
      "photo, photo photo, picture, camera, video, music, image, edit, file, folder\n",
      "\n",
      "Topic  3\n",
      "device, photo, account, home, device device, apps, access, location, way, photo photo\n",
      "\n",
      "Topic  4\n",
      "problem, device, file, photo, account, music, problem problem, device device, download, storage\n",
      "\n",
      "Topic  5\n",
      "video, device, youtube, kid, ad, problem, video video, playlist, quality, tv\n",
      "\n",
      "Topic  6\n",
      "screen, home, problem, tv, home screen, button, device, photo, ad, lock\n",
      "\n",
      "Topic  7\n",
      "issue, video, message, device, camera, notification, pixel, watch, music, fix\n",
      "\n",
      "Topic  8\n",
      "file, map, issue, version, apps, folder, drive, data, share, location\n",
      "\n",
      "Topic  9\n",
      "play, apps, game, store, play store, service, play service, podcast, tv, day\n"
     ]
    }
   ],
   "source": [
    "num_topic=10\n",
    "lsa = TruncatedSVD(num_topic)\n",
    "doc_topic = lsa.fit_transform(df_cv1_2)\n",
    "U=lsa.explained_variance_ratio_\n",
    "\n",
    "index=[str('component {}'.format(i)) for i in range(1,num_topic+1)]\n",
    "topic_word = pd.DataFrame(lsa.components_.round(3),\n",
    "             index = index,\n",
    "             columns = cv1_2.get_feature_names())\n",
    "#topic_word\n",
    "display_topics(lsa, cv1_2.get_feature_names(), 10)"
   ]
  },
  {
   "cell_type": "code",
   "execution_count": 23,
   "metadata": {},
   "outputs": [
    {
     "name": "stdout",
     "output_type": "stream",
     "text": [
      "\n",
      "Topic  0\n",
      "music, play, device, problem, play music, youtube, issue, way, video, thing\n",
      "\n",
      "Topic  1\n",
      "music, play music, play, music music, song, youtube music, playlist, youtube, music play, music youtube\n",
      "\n",
      "Topic  2\n",
      "photo, photo photo, picture, camera, video, music, image, edit, file, folder\n",
      "\n",
      "Topic  3\n",
      "device, photo, account, home, device device, access, apps, location, way, photo photo\n",
      "\n",
      "Topic  4\n",
      "problem, device, file, photo, music, account, problem problem, device device, data, download\n",
      "\n",
      "Topic  5\n",
      "video, device, youtube, problem, kid, ad, tv, playlist, video video, account\n",
      "\n",
      "Topic  6\n",
      "screen, home, problem, tv, home screen, button, device, photo, lock, alarm\n",
      "\n",
      "Topic  7\n",
      "issue, message, video, device, camera, watch, file, pixel, notification, music\n",
      "\n",
      "Topic  8\n",
      "play, game, apps, store, service, message, tv, play store, account, photo\n",
      "\n",
      "Topic  9\n",
      "file, apps, play, game, map, tv, folder, version, issue, drive\n"
     ]
    }
   ],
   "source": [
    "num_topic=10\n",
    "lsa = TruncatedSVD(num_topic)\n",
    "doc_topic = lsa.fit_transform(df_cv2_2)\n",
    "U=lsa.explained_variance_ratio_\n",
    "\n",
    "index=[str('component {}'.format(i)) for i in range(1,num_topic+1)]\n",
    "topic_word = pd.DataFrame(lsa.components_.round(3),\n",
    "             index = index,\n",
    "             columns = cv2_2.get_feature_names())\n",
    "#topic_word\n",
    "display_topics(lsa, cv2_2.get_feature_names(), 10)"
   ]
  },
  {
   "cell_type": "markdown",
   "metadata": {},
   "source": [
    "# Topic Modeling - Attempt #3 (Nouns and Adjectives and Verb)"
   ]
  },
  {
   "cell_type": "code",
   "execution_count": 24,
   "metadata": {},
   "outputs": [],
   "source": [
    "data_nouns_adj = pd.read_pickle('data_nouns_adj_v.pkl')"
   ]
  },
  {
   "cell_type": "code",
   "execution_count": 25,
   "metadata": {},
   "outputs": [],
   "source": [
    "stop_words1=text.ENGLISH_STOP_WORDS.union(add_stop_words)\n",
    "cv1_3=CountVectorizer(stop_words=stop_words1, token_pattern=\"\\\\b[a-z][a-z]+\\\\b\",\n",
    "                    min_df=5,max_df=0.90, #max_features=10000, \n",
    "                      ngram_range=(1,2))\n",
    "df_cv1_3 = cv1_3.fit_transform(data_nouns_adj.content)\n",
    "df_review1_3=pd.DataFrame(df_cv1_3.toarray(), index= [data.title], columns=cv1_3.get_feature_names())"
   ]
  },
  {
   "cell_type": "code",
   "execution_count": 26,
   "metadata": {},
   "outputs": [],
   "source": [
    "cv2_3=TfidfVectorizer(stop_words=stop_words1, token_pattern=\"\\\\b[a-z][a-z]+\\\\b\",\n",
    "                    min_df=3,max_df=0.90, #max_features=10000, \n",
    "                      ngram_range=(1,2))\n",
    "df_cv2_3 = cv2_3.fit_transform(data_nouns_adj.content)\n",
    "df_review2_3=pd.DataFrame(df_cv2_3.toarray(), index= [data.title], columns=cv2_3.get_feature_names())"
   ]
  },
  {
   "cell_type": "code",
   "execution_count": 28,
   "metadata": {},
   "outputs": [
    {
     "name": "stdout",
     "output_type": "stream",
     "text": [
      "\n",
      "Topic  0\n",
      "music, play, try, fix, want, doesnt, problem, new, say, device\n",
      "\n",
      "Topic  1\n",
      "music, play, youtube, play music, youtube music, song, listen, playlist, download, listen music\n",
      "\n",
      "Topic  2\n",
      "add, photo, want, love, way, change, video, thing, nice, new\n",
      "\n",
      "Topic  3\n",
      "device, screen, android, apps, home, tv, set, account, add, turn\n",
      "\n",
      "Topic  4\n",
      "device, photo, play, apps, account, try, download, android, file, data\n",
      "\n",
      "Topic  5\n",
      "video, screen, play, fix, android, photo, watch, tv, problem, ad\n",
      "\n",
      "Topic  6\n",
      "doesnt, screen, music, want, change, open, photo, turn, map, button\n",
      "\n",
      "Topic  7\n",
      "play, add, open, doesnt, android, screen, photo, map, fix, new\n",
      "\n",
      "Topic  8\n",
      "device, music, fix, issue, message, problem, add, screen, youtube, photo\n",
      "\n",
      "Topic  9\n",
      "try, add, screen, doesnt, video, watch, connect, open, file, home\n"
     ]
    }
   ],
   "source": [
    "num_topic=10\n",
    "lsa = TruncatedSVD(num_topic)\n",
    "doc_topic = lsa.fit_transform(df_cv1_3)\n",
    "U=lsa.explained_variance_ratio_\n",
    "\n",
    "index=[str('component {}'.format(i)) for i in range(1,num_topic+1)]\n",
    "topic_word = pd.DataFrame(lsa.components_.round(3),\n",
    "             index = index,\n",
    "             columns = cv1_3.get_feature_names())\n",
    "#topic_word\n",
    "display_topics(lsa, cv1_3.get_feature_names(), 10)"
   ]
  },
  {
   "cell_type": "code",
   "execution_count": 29,
   "metadata": {},
   "outputs": [
    {
     "name": "stdout",
     "output_type": "stream",
     "text": [
      "\n",
      "Topic  0\n",
      "nice, nice application, nice apps, application, apps, easy, add, nice aap, aap, nice easy\n",
      "\n",
      "Topic  1\n",
      "ok, ok ok, say, doesnt, problem, thank, love, fix, ok guess, video\n",
      "\n",
      "Topic  2\n",
      "love, best, bad, music, play, doesnt, fix, problem, apps, try\n",
      "\n",
      "Topic  3\n",
      "best, best apps, best best, best camera, best application, best edit, best thing, best music, best thank, best way\n",
      "\n",
      "Topic  4\n",
      "bad, experience, bad experience, doesnt, problem, try, fix, want, open, play\n",
      "\n",
      "Topic  5\n",
      "love, bad, best, ok, nice, love love, love thank, love easy, bad experience, best best\n",
      "\n",
      "Topic  6\n",
      "excellent, super, useful, thank, excellent service, application, excellent application, quality, excellent apps, service\n",
      "\n",
      "Topic  7\n",
      "super, easy, awesome, useful, cool, super easy, slow, helpful, super cool, super annoy\n",
      "\n",
      "Topic  8\n",
      "awesome, useful, thank, know, experience, amaze, cool, nice useful, language, awesome thank\n",
      "\n",
      "Topic  9\n",
      "useful, easy, apps, know, application, doesnt, nice useful, simple, device, useful tool\n"
     ]
    }
   ],
   "source": [
    "num_topic=10\n",
    "lsa = TruncatedSVD(num_topic)\n",
    "doc_topic = lsa.fit_transform(df_cv2_3)\n",
    "U=lsa.explained_variance_ratio_\n",
    "\n",
    "index=[str('component {}'.format(i)) for i in range(1,num_topic+1)]\n",
    "topic_word = pd.DataFrame(lsa.components_.round(3),\n",
    "             index = index,\n",
    "             columns = cv2_3.get_feature_names())\n",
    "#topic_word\n",
    "display_topics(lsa, cv2_3.get_feature_names(), 10)"
   ]
  },
  {
   "cell_type": "code",
   "execution_count": null,
   "metadata": {},
   "outputs": [],
   "source": []
  }
 ],
 "metadata": {
  "kernelspec": {
   "display_name": "Python 3",
   "language": "python",
   "name": "python3"
  },
  "language_info": {
   "codemirror_mode": {
    "name": "ipython",
    "version": 3
   },
   "file_extension": ".py",
   "mimetype": "text/x-python",
   "name": "python",
   "nbconvert_exporter": "python",
   "pygments_lexer": "ipython3",
   "version": "3.8.2"
  }
 },
 "nbformat": 4,
 "nbformat_minor": 4
}
